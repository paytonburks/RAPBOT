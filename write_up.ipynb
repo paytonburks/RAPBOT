{
 "cells": [
  {
   "attachments": {},
   "cell_type": "markdown",
   "metadata": {},
   "source": [
    "# Final Project Write Up - SlattBot\n",
    "##### Payton Burks"
   ]
  },
  {
   "attachments": {},
   "cell_type": "markdown",
   "metadata": {},
   "source": [
    "### Summary\n",
    "Slattbot was a somewhat successful attempt at exploring AI and human response to different positive, negative, and neutral sentiment at varying levels of intensity. \n",
    "\n",
    "My initial scope included these goals:\n",
    "* Train multiple AI models on tweets from musical artists with ‘cult-like’ followings\n",
    "* Build a responsive community of these AI on Twitter\n",
    "* See how positive/negative sentiment affect the sentiment and likelihood of reply\n",
    "     * Both AI and human responses\n",
    "* Predict reply count, sentiment based on tweet \n",
    "\n",
    "However, several challenges limited the progress and full completion of the goals. I will address these shortcomings as they appear in the write-up."
   ]
  },
  {
   "attachments": {},
   "cell_type": "markdown",
   "metadata": {},
   "source": [
    "### Research Proposal\n",
    "Originally I wanted to use smash bros tournament data to predict seeding upsets. I wanted to build a webscraper and subsequently store my data in Google Cloud Platform. Thus, much of my research was dedicated to learning GCP, which I did eventually use for much of my data storage. I also wanted to use pytorch to make the model for the predictions, but I pivoted to tensorflow instead. \n",
    "\n",
    "I spent much of this time figuring out the tensorflow basics and decided I wanted to do text generation for my tutorial. I based much of my work off of the tensorflow [website](https://www.tensorflow.org/text/tutorials/text_generation)"
   ]
  },
  {
   "attachments": {},
   "cell_type": "markdown",
   "metadata": {},
   "source": [
    "### Project Proposal\n",
    "Here is where I fully put down my goals and what I wanted to achieve in the project. I wanted to...\n",
    "\n",
    "* Create generative text bots that output tweets on a (daily?) schedule\n",
    "* Make them interact in a community-like setting\n",
    "* Reply based on probablity of interaction\n",
    "* Allow bots to like and rt \n",
    "* Visualize interaction over time\n",
    "\n",
    "I think one of my biggest challenges was defining the overall scope of the project at this point. There is a lot of ideas here, but it is less-so data focused and doesn't really have any measurable goals.\n",
    "\n",
    "### Tech stack\n",
    "I decided to use\n",
    "* SNScrape - get historical data\n",
    "* GCP (cloud scheduler - publishing tweets, big query - storing new data)\n",
    "* tweepy - get new data, manipulate bots\n",
    "\n",
    "I decided that I wanted to retrain the model offline with the new data on certain intervals and push it to the cloud to save on costs."
   ]
  },
  {
   "attachments": {},
   "cell_type": "markdown",
   "metadata": {},
   "source": [
    "### SNScrape\n",
    "Findinng this tool was a godsend. The code below allowed me to pull the last 10,000 tweets from any user with ease."
   ]
  },
  {
   "cell_type": "code",
   "execution_count": 1,
   "metadata": {},
   "outputs": [
    {
     "ename": "SyntaxError",
     "evalue": "invalid syntax (<ipython-input-1-a7729ccf36f8>, line 7)",
     "output_type": "error",
     "traceback": [
      "\u001b[1;36m  File \u001b[1;32m\"<ipython-input-1-a7729ccf36f8>\"\u001b[1;36m, line \u001b[1;32m7\u001b[0m\n\u001b[1;33m    for i, tweet in enumerate(sntwitter.TwitterSearchScraper('from':username).get_items()):\u001b[0m\n\u001b[1;37m                                                                   ^\u001b[0m\n\u001b[1;31mSyntaxError\u001b[0m\u001b[1;31m:\u001b[0m invalid syntax\n"
     ]
    }
   ],
   "source": [
    "import snscrape.modules.twitter as sntwitter\n",
    "import pandas as pd\n",
    "\n",
    "def scrape_historical(username):\n",
    "    attributes_container = []\n",
    "\n",
    "    for i, tweet in enumerate(sntwitter.TwitterSearchScraper('from:'+username).get_items()):\n",
    "        if i>10000:\n",
    "            break\n",
    "        attributes_container.append([tweet.date, tweet.likeCount, tweet.replyCount, tweet.retweetCount, tweet.sourceLabel, tweet.content,])\n",
    "\n",
    "    tweets_df = pd.DataFrame(attributes_container, columns=[\"date\", \"likes\", \"replies\", \"retweets\", \"source\", \"tweet\"])\n",
    "    tweets_df.to_csv('tweets/youngthugtweets.csv')\n"
   ]
  }
 ],
 "metadata": {
  "kernelspec": {
   "display_name": "base",
   "language": "python",
   "name": "python3"
  },
  "language_info": {
   "codemirror_mode": {
    "name": "ipython",
    "version": 3
   },
   "file_extension": ".py",
   "mimetype": "text/x-python",
   "name": "python",
   "nbconvert_exporter": "python",
   "pygments_lexer": "ipython3",
   "version": "3.8.3"
  },
  "orig_nbformat": 4
 },
 "nbformat": 4,
 "nbformat_minor": 2
}
